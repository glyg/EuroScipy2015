{
 "cells": [
  {
   "cell_type": "markdown",
   "metadata": {
    "slideshow": {
     "slide_type": "slide"
    }
   },
   "source": [
    "**Guillaume Gay** \n",
    "\n",
    "DamCB - Data analysis and modeling for Cell Biology\n",
    "\n",
    ">    e-mail: guillaume@damcb.com\n",
    "\n",
    ">    github / IRC: glyg\n",
    "\n",
    ">    twitter: @elagachado\n",
    "\n",
    "\n",
    "in collaboration with \n",
    "\n",
    "\n",
    "> **Magali Suzanne's team**, UPS/CNRS, Toulouse"
   ]
  },
  {
   "cell_type": "markdown",
   "metadata": {
    "slideshow": {
     "slide_type": "slide"
    }
   },
   "source": [
    "## 1. Modeling fold formation: the `leg-joint` project\n",
    "\n",
    "\n",
    "## 2. The `tyssue` project\n"
   ]
  },
  {
   "cell_type": "markdown",
   "metadata": {
    "slideshow": {
     "slide_type": "slide"
    }
   },
   "source": [
    "### Modeling fold formation: the `leg-joint` project\n",
    "\n",
    "<hr/>\n",
    "\n",
    "\n",
    "#### A fruit fly's teenage crisis\n",
    "\n",
    "![Drosophila metamorphosis](bio_droso_dev.svg)\n",
    "\n",
    "\n",
    "\n",
    "sources: [fly photo](https://upload.wikimedia.org/wikipedia/commons/4/4c/Drosophila_melanogaster_-_side_%28aka%29.jpg), [sketch](http://www.swarthmore.edu/NatSci/sgilber1/DB_lab/Student/fly_webo4/web%20presentation/fly_diagram.jpg)\n"
   ]
  },
  {
   "cell_type": "markdown",
   "metadata": {
    "slideshow": {
     "slide_type": "slide"
    }
   },
   "source": [
    "### Fold formation requires active apoptosis \n",
    "\n",
    "#### Epithelium biology\n",
    "\n",
    "![Vue apicale](bio_legjoint_apical_view.svg)\n"
   ]
  },
  {
   "cell_type": "markdown",
   "metadata": {
    "slideshow": {
     "slide_type": "slide"
    }
   },
   "source": [
    "#### Fold formation dynamics\n",
    "\n",
    "![phenotype and dynamics of fold formation](bio_legjoint_phenotype.svg)\n",
    "\n",
    "Monier, Gettings et al. *Nature*, 2015"
   ]
  },
  {
   "cell_type": "markdown",
   "metadata": {
    "slideshow": {
     "slide_type": "slide"
    }
   },
   "source": [
    "### Epithelium simulation\n",
    "\n",
    "\n",
    "![In silico legjoint simulation](silico_legjoint.svg)\n"
   ]
  },
  {
   "cell_type": "markdown",
   "metadata": {
    "slideshow": {
     "slide_type": "subslide"
    }
   },
   "source": [
    "> We use the `graph-tool` library to describe\n",
    "> the apical mesh in 3D.\n",
    "\n",
    "> We then perform gradient descent:\n",
    "\n",
    "$$ \\min{(E_v + E_t + E_c + E_d)},$$\n",
    "$$ F = -\\Delta E$$\n",
    "$$ \\Longleftrightarrow \\Sigma F = 0 $$\n"
   ]
  },
  {
   "cell_type": "markdown",
   "metadata": {
    "slideshow": {
     "slide_type": "slide"
    }
   },
   "source": [
    "## The `tyssue` project\n",
    "\n",
    "![Google image seach for 'epithelium'](google_search_epithelium.png)"
   ]
  },
  {
   "cell_type": "markdown",
   "metadata": {
    "slideshow": {
     "slide_type": "slide"
    }
   },
   "source": [
    "### Let C++ manage the hairy topology\n",
    "\n",
    "![Linear Cell Complex](linearcellcomplex.svg)"
   ]
  },
  {
   "cell_type": "markdown",
   "metadata": {},
   "source": [
    "### While we implement all the rest in python\n",
    "\n",
    "![tyssue library structure](tyssue_data_management.svg)"
   ]
  },
  {
   "cell_type": "markdown",
   "metadata": {},
   "source": [
    "> [github.com/CellModels/tyssue](https://github.com/CellModels/tyssue)"
   ]
  },
  {
   "cell_type": "code",
   "execution_count": null,
   "metadata": {
    "collapsed": true
   },
   "outputs": [],
   "source": []
  },
  {
   "cell_type": "markdown",
   "metadata": {
    "slideshow": {
     "slide_type": "slide"
    }
   },
   "source": [
    "## Big Thanks\n",
    "\n",
    "#### Toulouse research team\n",
    "\n",
    "* Mélanie Gettings\n",
    "* Bruno Monier\n",
    "* Sonia Shott\n",
    "* Thomas Mangeat\n",
    "* Corinne Bennassayag\n",
    "* ** Magali Suzanne **\n",
    "\n",
    "#### The physicists\n",
    "\n",
    "* Cyprien Gay\n",
    "* François Molino\n",
    "\n",
    "#### The scipy community\n",
    "\n",
    "* Tiago Peixoto\n",
    "* Hadrien Mary @hadim\n",
    "\n",
    "#### special thanks\n",
    "\n",
    "* Alexandre Freulon\n"
   ]
  },
  {
   "cell_type": "code",
   "execution_count": null,
   "metadata": {
    "collapsed": true
   },
   "outputs": [],
   "source": []
  },
  {
   "cell_type": "code",
   "execution_count": 1,
   "metadata": {
    "collapsed": false,
    "slideshow": {
     "slide_type": "skip"
    }
   },
   "outputs": [
    {
     "name": "stderr",
     "output_type": "stream",
     "text": [
      "/home/guillaume/anaconda/envs/python3/lib/python3.4/site-packages/graph_tool/draw/cairo_draw.py:1340: RuntimeWarning: Error importing Gtk module: No module named 'gi'; GTK+ drawing will not work.\n",
      "  warnings.warn(msg, RuntimeWarning)\n"
     ]
    }
   ],
   "source": [
    "import logging\n",
    "logging.disable(logging.INFO)\n",
    "\n",
    "import leg_joint as lj\n",
    "\n",
    "import matplotlib.pyplot as plt\n",
    "%matplotlib inline\n",
    "\n",
    "from IPython import display\n",
    "import graph_tool.all as gt\n",
    "import numpy as np\n",
    "\n",
    "\n",
    "import pandas as pd\n",
    "\n",
    "import matplotlib.pylab as plt\n",
    "%matplotlib inline\n",
    "\n",
    "import tyssue as ty\n",
    "from tyssue.core import Epithelium, Cell, JunctionEdge, JunctionVertex\n",
    "from tyssue.core.generation import jv_data, cell_data, je_data\n",
    "from tyssue.geometry import sheet_geometry as geom"
   ]
  }
 ],
 "metadata": {
  "celltoolbar": "Slideshow",
  "kernelspec": {
   "display_name": "Python 3",
   "language": "python",
   "name": "python3"
  },
  "language_info": {
   "codemirror_mode": {
    "name": "ipython",
    "version": 3
   },
   "file_extension": ".py",
   "mimetype": "text/x-python",
   "name": "python",
   "nbconvert_exporter": "python",
   "pygments_lexer": "ipython3",
   "version": "3.4.3"
  }
 },
 "nbformat": 4,
 "nbformat_minor": 0
}
