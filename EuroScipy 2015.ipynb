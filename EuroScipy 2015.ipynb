{
 "cells": [
  {
   "cell_type": "markdown",
   "metadata": {
    "slideshow": {
     "slide_type": "slide"
    }
   },
   "source": [
    "# Modeling morphogenesis in living tissues with python\n",
    "**Guillaume Gay** \n"
   ]
  },
  {
   "cell_type": "markdown",
   "metadata": {
    "slideshow": {
     "slide_type": "subslide"
    }
   },
   "source": [
    "**DamCB** - Data analysis and modeling for Cell Biology\n",
    "\n",
    "> **e-mail:** <guillaume@damcb.com> \n",
    ">\n",
    "> **github** / **IRC**: glyg\n",
    ">\n",
    "> **twitter:** @elagachado\n"
   ]
  },
  {
   "cell_type": "code",
   "execution_count": 1,
   "metadata": {
    "collapsed": false,
    "slideshow": {
     "slide_type": "skip"
    }
   },
   "outputs": [
    {
     "name": "stderr",
     "output_type": "stream",
     "text": [
      "/home/guillaume/anaconda/envs/python3/lib/python3.4/site-packages/graph_tool/draw/cairo_draw.py:1340: RuntimeWarning: Error importing Gtk module: No module named 'gi'; GTK+ drawing will not work.\n",
      "  warnings.warn(msg, RuntimeWarning)\n"
     ]
    }
   ],
   "source": [
    "import logging\n",
    "logging.disable(logging.INFO)\n",
    "\n",
    "import leg_joint as lj\n",
    "\n",
    "import matplotlib.pyplot as plt\n",
    "%matplotlib inline\n",
    "\n",
    "from IPython import display\n",
    "import graph_tool.all as gt\n",
    "import numpy as np\n",
    "\n",
    "\n",
    "import pandas as pd\n",
    "\n",
    "import matplotlib.pylab as plt\n",
    "%matplotlib inline\n",
    "\n",
    "import tyssue as ty\n",
    "from tyssue.core import Epithelium, Cell, JunctionEdge, JunctionVertex\n",
    "from tyssue.core.generation import jv_data, cell_data, je_data\n",
    "from tyssue.geometry import sheet_geometry as geom"
   ]
  },
  {
   "cell_type": "markdown",
   "metadata": {
    "slideshow": {
     "slide_type": "slide"
    }
   },
   "source": [
    "The mighty fruit fly [Drosophila melanogaster](https://en.wikipedia.org/wiki/Drosophila_melanogaster)\n",
    "\n",
    "\n",
    "![The fruit fly](https://upload.wikimedia.org/wikipedia/commons/4/4c/Drosophila_melanogaster_-_side_%28aka%29.jpg)\n",
    "source: wikipedia\n",
    "\n"
   ]
  },
  {
   "cell_type": "markdown",
   "metadata": {
    "slideshow": {
     "slide_type": "slide"
    }
   },
   "source": [
    "\n",
    "### The metamorphosis from pupa to adult fly.\n",
    "\n",
    "![Drosophila development](droso_dev.svg)\n",
    "\n",
    "\n",
    "\n",
    "\n"
   ]
  },
  {
   "cell_type": "markdown",
   "metadata": {
    "slideshow": {
     "slide_type": "fragment"
    }
   },
   "source": [
    " ### Fluorescence microscopy of apical junctions\n",
    "\n",
    "![Vue apicale](apical_view_junctions.svg)\n",
    "\n"
   ]
  },
  {
   "cell_type": "markdown",
   "metadata": {
    "slideshow": {
     "slide_type": "slide"
    }
   },
   "source": [
    "## Apoptosis \n",
    "![A dying cell](Apoptosis_DU145_cells_mosaic.jpg)\n",
    "\n",
    "\"Apoptosis DU145 cells mosaic\" by Egelberg - CC BY-SA 3.0\n",
    "\n",
    "<hr/>"
   ]
  },
  {
   "cell_type": "markdown",
   "metadata": {
    "slideshow": {
     "slide_type": "fragment"
    }
   },
   "source": [
    "![Un pied sans apoptose](http://upload.wikimedia.org/wikipedia/commons/thumb/8/8d/Celldeath.jpg/320px-Celldeath.jpg)"
   ]
  },
  {
   "cell_type": "markdown",
   "metadata": {
    "slideshow": {
     "slide_type": "slide"
    }
   },
   "source": [
    "### In the leg disk\n",
    "\n",
    "<iframe src=\"//player.vimeo.com/video/109897311\"\n",
    "    width=\"500\" height=\"428\" frameborder=\"0\"\n",
    "    webkitallowfullscreen mozallowfullscreen allowfullscreen>\n",
    "</iframe> <p><a href=\"http://vimeo.com/109897311\">Apical vue of the fold formation on a drosophila leg disk</a> from <a href=\"http://vimeo.com/user12210065\">glyg</a> on <a href=\"https://vimeo.com\">Vimeo</a>.</p>\n"
   ]
  },
  {
   "cell_type": "markdown",
   "metadata": {
    "slideshow": {
     "slide_type": "subslide"
    }
   },
   "source": [
    "\n",
    "![Phenotype](phenotype.svg)"
   ]
  },
  {
   "cell_type": "markdown",
   "metadata": {
    "slideshow": {
     "slide_type": "subslide"
    }
   },
   "source": [
    "#### At the cellular level\n",
    "\n",
    "![Cell level sagital view](legjoint_bio.png)\n",
    "\n"
   ]
  },
  {
   "cell_type": "markdown",
   "metadata": {
    "slideshow": {
     "slide_type": "subslide"
    }
   },
   "source": [
    "## Physics !\n",
    "\n",
    "![Architecture du réseau pour une cellule](one_cell.svg)\n",
    "\n"
   ]
  },
  {
   "cell_type": "markdown",
   "metadata": {
    "slideshow": {
     "slide_type": "subslide"
    }
   },
   "source": [
    "### Python to the rescue!\n",
    "\n",
    "* `graph_tool`\n",
    "\n",
    "* `scipy.optimize.fmin_lbfgs`\n",
    "\n"
   ]
  },
  {
   "cell_type": "markdown",
   "metadata": {
    "slideshow": {
     "slide_type": "slide"
    }
   },
   "source": [
    "## The `leg_joint` module"
   ]
  },
  {
   "cell_type": "code",
   "execution_count": 2,
   "metadata": {
    "collapsed": false,
    "slideshow": {
     "slide_type": "slide"
    }
   },
   "outputs": [],
   "source": [
    "# Create an epithelium by instanciating the container class\n",
    "\n",
    "eptm = lj.Epithelium(lj.data.before_apoptosis_xml(),\n",
    "                     save_dir='/tmp',\n",
    "                     identifier='slides',\n",
    "                     copy=True)\n",
    "\n",
    "# Scale the tissue globaly to approach equilibrium\n",
    "eptm.isotropic_relax()\n"
   ]
  },
  {
   "cell_type": "markdown",
   "metadata": {
    "slideshow": {
     "slide_type": "fragment"
    }
   },
   "source": [
    "![A simulated tissue](tissue_3d.png)\n",
    "\n"
   ]
  },
  {
   "cell_type": "markdown",
   "metadata": {
    "slideshow": {
     "slide_type": "slide"
    }
   },
   "source": [
    "### 30 apoptoses\n",
    "\n",
    "<hr/>\n",
    "<iframe src=\"//player.vimeo.com/video/107188046\" width=\"800\"\n",
    "    height=\"600\" frameborder=\"0\" webkitallowfullscreen\n",
    "    mozallowfullscreen allowfullscreen></iframe> <p><a\n",
    "    href=\"http://vimeo.com/107188046\">Fold formation model</a> from <a\n",
    "    href=\"http://vimeo.com/user12210065\">glyg</a> on <a\n",
    "    href=\"https://vimeo.com\">Vimeo</a>.</p>\n"
   ]
  },
  {
   "cell_type": "markdown",
   "metadata": {
    "slideshow": {
     "slide_type": "slide"
    }
   },
   "source": [
    "\n",
    "![Différentes conditions](in_silico_phenotypes.svg)\n"
   ]
  },
  {
   "cell_type": "markdown",
   "metadata": {
    "slideshow": {
     "slide_type": "slide"
    }
   },
   "source": [
    "### Les biologistes du LBCMCP (CNRS/Université de Toulouse)\n",
    "\n",
    "* Mélanie Gettings\n",
    "* Bruno Monier\n",
    "* Sonia Shott\n",
    "* ** Magali Suzanne **\n",
    "\n",
    "### L'autre physicien\n",
    "\n",
    "* Thomas Mangeat\n",
    "\n",
    "## Merci!\n",
    "\n",
    "\n",
    "\n"
   ]
  }
 ],
 "metadata": {
  "celltoolbar": "Slideshow",
  "kernelspec": {
   "display_name": "Python 3",
   "language": "python",
   "name": "python3"
  },
  "language_info": {
   "codemirror_mode": {
    "name": "ipython",
    "version": 3
   },
   "file_extension": ".py",
   "mimetype": "text/x-python",
   "name": "python",
   "nbconvert_exporter": "python",
   "pygments_lexer": "ipython3",
   "version": "3.4.3"
  }
 },
 "nbformat": 4,
 "nbformat_minor": 0
}
